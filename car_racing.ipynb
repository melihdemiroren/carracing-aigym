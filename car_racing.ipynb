{
 "cells": [
  {
   "cell_type": "markdown",
   "metadata": {},
   "source": [
    "# Import gym"
   ]
  },
  {
   "cell_type": "code",
   "execution_count": 11,
   "metadata": {},
   "outputs": [],
   "source": [
    "# gym is a toolkit for making reinforcement learning easier\n",
    "import gym\n",
    "import numpy as np\n",
    "import random"
   ]
  },
  {
   "cell_type": "markdown",
   "metadata": {},
   "source": [
    "# Create the environment"
   ]
  },
  {
   "cell_type": "code",
   "execution_count": 12,
   "metadata": {},
   "outputs": [
    {
     "name": "stderr",
     "output_type": "stream",
     "text": [
      "/Users/mp22ag/anaconda3/envs/aigym/lib/python3.8/site-packages/gym/logger.py:30: UserWarning: \u001b[33mWARN: Box bound precision lowered by casting to float32\u001b[0m\n",
      "  warnings.warn(colorize('%s: %s'%('WARN', msg % args), 'yellow'))\n"
     ]
    }
   ],
   "source": [
    "# Choose the environment, track racing, robot walking....\n",
    "env = gym.make('CarRacing-v0')"
   ]
  },
  {
   "cell_type": "markdown",
   "metadata": {},
   "source": [
    "# Create Q table"
   ]
  },
  {
   "cell_type": "code",
   "execution_count": 13,
   "metadata": {
    "scrolled": true
   },
   "outputs": [
    {
     "name": "stdout",
     "output_type": "stream",
     "text": [
      "Action Space Box(3,)\n",
      "State Space Box(96, 96, 3)\n"
     ]
    }
   ],
   "source": [
    "print(\"Action Space {}\".format(env.action_space))\n",
    "print(\"State Space {}\".format(env.observation_space))"
   ]
  },
  {
   "cell_type": "code",
   "execution_count": 14,
   "metadata": {},
   "outputs": [],
   "source": [
    "actions = {\n",
    "    0: [-1.0, 0.0, 0.0], # turn left\n",
    "    1: [+1.0, 0.0, 0.0 ], # turn right\n",
    "    2: [ 0.0, 0.0, 0.8 ], # brake\n",
    "    3: [ 0.0, 1.0, 0.8 ], # accelerate\n",
    "    4: [0,   0, 0], # do nothing\n",
    "}"
   ]
  },
  {
   "cell_type": "code",
   "execution_count": 15,
   "metadata": {},
   "outputs": [],
   "source": [
    "## initialize q table\n",
    "\n",
    "state_num = 512 # 2ˆˆ9\n",
    "q_table = np.zeros([state_num, len(actions)])"
   ]
  },
  {
   "cell_type": "markdown",
   "metadata": {},
   "source": [
    "# Simulate, learn\n",
    "\n",
    "* Your code here to replace the section in red and 4 lines below"
   ]
  },
  {
   "cell_type": "code",
   "execution_count": 16,
   "metadata": {},
   "outputs": [],
   "source": [
    "# Hyperparameters\n",
    "alpha = 0.2\n",
    "gamma = 0.7\n",
    "epsilon = 0.2"
   ]
  },
  {
   "cell_type": "code",
   "execution_count": 17,
   "metadata": {},
   "outputs": [],
   "source": [
    "random.seed(42)"
   ]
  },
  {
   "cell_type": "code",
   "execution_count": 19,
   "metadata": {},
   "outputs": [],
   "source": [
    "state_dummy = env.render()"
   ]
  },
  {
   "cell_type": "code",
   "execution_count": 9,
   "metadata": {
    "scrolled": true
   },
   "outputs": [
    {
     "data": {
      "text/plain": [
       "array([[0, 0, 1],\n",
       "       [0, 0, 1],\n",
       "       [0, 0, 1]])"
      ]
     },
     "execution_count": 9,
     "metadata": {},
     "output_type": "execute_result"
    }
   ],
   "source": [
    "binarize(a)"
   ]
  },
  {
   "cell_type": "code",
   "execution_count": null,
   "metadata": {},
   "outputs": [
    {
     "name": "stdout",
     "output_type": "stream",
     "text": [
      "Track generation: 1183..1483 -> 300-tiles track\n",
      "Observation:  (96, 96, 3) Reward:  6.5889632107023415 Done?:  False\n",
      "Observation:  (96, 96, 3) Reward:  -0.09999999999999964 Done?:  False\n",
      "Observation:  (96, 96, 3) Reward:  -0.09999999999999964 Done?:  False\n",
      "Observation:  (96, 96, 3) Reward:  -0.09999999999999964 Done?:  False\n",
      "Observation:  (96, 96, 3) Reward:  -0.09999999999999964 Done?:  False\n",
      "Observation:  (96, 96, 3) Reward:  -0.09999999999999964 Done?:  False\n",
      "Observation:  (96, 96, 3) Reward:  -0.09999999999999964 Done?:  False\n",
      "Observation:  (96, 96, 3) Reward:  -0.09999999999999964 Done?:  False\n",
      "Observation:  (96, 96, 3) Reward:  -0.09999999999999964 Done?:  False\n",
      "Observation:  (96, 96, 3) Reward:  -0.09999999999999964 Done?:  False\n",
      "Observation:  (96, 96, 3) Reward:  -0.09999999999999964 Done?:  False\n",
      "Observation:  (96, 96, 3) Reward:  -0.09999999999999964 Done?:  False\n",
      "Observation:  (96, 96, 3) Reward:  -0.09999999999999964 Done?:  False\n",
      "Observation:  (96, 96, 3) Reward:  -0.09999999999999964 Done?:  False\n",
      "Observation:  (96, 96, 3) Reward:  -0.09999999999999964 Done?:  False\n",
      "Observation:  (96, 96, 3) Reward:  -0.09999999999999964 Done?:  False\n",
      "Observation:  (96, 96, 3) Reward:  -0.09999999999999964 Done?:  False\n",
      "Observation:  (96, 96, 3) Reward:  -0.09999999999999964 Done?:  False\n",
      "Observation:  (96, 96, 3) Reward:  -0.09999999999999964 Done?:  False\n",
      "Observation:  (96, 96, 3) Reward:  -0.09999999999999964 Done?:  False\n",
      "Observation:  (96, 96, 3) Reward:  -0.09999999999999964 Done?:  False\n",
      "Observation:  (96, 96, 3) Reward:  -0.09999999999999964 Done?:  False\n",
      "Observation:  (96, 96, 3) Reward:  -0.09999999999999964 Done?:  False\n",
      "Observation:  (96, 96, 3) Reward:  -0.09999999999999964 Done?:  False\n",
      "Observation:  (96, 96, 3) Reward:  -0.09999999999999964 Done?:  False\n",
      "Observation:  (96, 96, 3) Reward:  -0.09999999999999964 Done?:  False\n",
      "Observation:  (96, 96, 3) Reward:  -0.10000000000000009 Done?:  False\n",
      "Observation:  (96, 96, 3) Reward:  -0.10000000000000009 Done?:  False\n",
      "Observation:  (96, 96, 3) Reward:  -0.10000000000000009 Done?:  False\n",
      "Observation:  (96, 96, 3) Reward:  -0.10000000000000009 Done?:  False\n",
      "Observation:  (96, 96, 3) Reward:  -0.10000000000000009 Done?:  False\n",
      "Observation:  (96, 96, 3) Reward:  -0.10000000000000009 Done?:  False\n",
      "Observation:  (96, 96, 3) Reward:  -0.10000000000000009 Done?:  False\n",
      "Observation:  (96, 96, 3) Reward:  -0.10000000000000009 Done?:  False\n",
      "Observation:  (96, 96, 3) Reward:  -0.10000000000000009 Done?:  False\n",
      "Observation:  (96, 96, 3) Reward:  -0.10000000000000009 Done?:  False\n",
      "Observation:  (96, 96, 3) Reward:  -0.10000000000000009 Done?:  False\n",
      "Observation:  (96, 96, 3) Reward:  -0.10000000000000009 Done?:  False\n",
      "Observation:  (96, 96, 3) Reward:  -0.10000000000000009 Done?:  False\n",
      "Observation:  (96, 96, 3) Reward:  -0.10000000000000009 Done?:  False\n",
      "Observation:  (96, 96, 3) Reward:  -0.10000000000000009 Done?:  False\n",
      "Observation:  (96, 96, 3) Reward:  -0.10000000000000009 Done?:  False\n",
      "Observation:  (96, 96, 3) Reward:  -0.10000000000000009 Done?:  False\n",
      "Observation:  (96, 96, 3) Reward:  -0.10000000000000009 Done?:  False\n",
      "Observation:  (96, 96, 3) Reward:  -0.10000000000000009 Done?:  False\n",
      "Observation:  (96, 96, 3) Reward:  -0.10000000000000009 Done?:  False\n",
      "Observation:  (96, 96, 3) Reward:  -0.10000000000000009 Done?:  False\n",
      "Observation:  (96, 96, 3) Reward:  -0.10000000000000009 Done?:  False\n",
      "Observation:  (96, 96, 3) Reward:  -0.10000000000000009 Done?:  False\n",
      "Observation:  (96, 96, 3) Reward:  -0.10000000000000009 Done?:  False\n",
      "Observation:  (96, 96, 3) Reward:  -0.10000000000000009 Done?:  False\n",
      "Observation:  (96, 96, 3) Reward:  -0.10000000000000009 Done?:  False\n",
      "Observation:  (96, 96, 3) Reward:  -0.10000000000000009 Done?:  False\n",
      "Observation:  (96, 96, 3) Reward:  -0.10000000000000009 Done?:  False\n",
      "Observation:  (96, 96, 3) Reward:  -0.10000000000000009 Done?:  False\n",
      "Observation:  (96, 96, 3) Reward:  -0.10000000000000009 Done?:  False\n",
      "Observation:  (96, 96, 3) Reward:  -0.09999999999999998 Done?:  False\n",
      "Observation:  (96, 96, 3) Reward:  -0.09999999999999998 Done?:  False\n",
      "Observation:  (96, 96, 3) Reward:  -0.09999999999999998 Done?:  False\n",
      "Observation:  (96, 96, 3) Reward:  -0.09999999999999998 Done?:  False\n",
      "Observation:  (96, 96, 3) Reward:  -0.09999999999999998 Done?:  False\n",
      "Observation:  (96, 96, 3) Reward:  -0.09999999999999998 Done?:  False\n",
      "Observation:  (96, 96, 3) Reward:  -0.09999999999999998 Done?:  False\n",
      "Observation:  (96, 96, 3) Reward:  -0.09999999999999998 Done?:  False\n",
      "Observation:  (96, 96, 3) Reward:  -0.1 Done?:  False\n",
      "Observation:  (96, 96, 3) Reward:  -0.1 Done?:  False\n",
      "Observation:  (96, 96, 3) Reward:  -0.1 Done?:  False\n",
      "Observation:  (96, 96, 3) Reward:  -0.1 Done?:  False\n",
      "Observation:  (96, 96, 3) Reward:  -0.1 Done?:  False\n",
      "Observation:  (96, 96, 3) Reward:  -0.1 Done?:  False\n",
      "Observation:  (96, 96, 3) Reward:  -0.10000000000000003 Done?:  False\n",
      "Observation:  (96, 96, 3) Reward:  -0.09999999999999998 Done?:  False\n",
      "Observation:  (96, 96, 3) Reward:  -0.09999999999999998 Done?:  False\n",
      "Observation:  (96, 96, 3) Reward:  -0.09999999999999998 Done?:  False\n",
      "Observation:  (96, 96, 3) Reward:  -0.09999999999999998 Done?:  False\n",
      "Observation:  (96, 96, 3) Reward:  -0.09999999999999998 Done?:  False\n",
      "Observation:  (96, 96, 3) Reward:  -0.10000000000000009 Done?:  False\n",
      "Observation:  (96, 96, 3) Reward:  -0.10000000000000009 Done?:  False\n",
      "Observation:  (96, 96, 3) Reward:  -0.10000000000000009 Done?:  False\n",
      "Observation:  (96, 96, 3) Reward:  -0.10000000000000009 Done?:  False\n",
      "Observation:  (96, 96, 3) Reward:  -0.10000000000000009 Done?:  False\n",
      "Observation:  (96, 96, 3) Reward:  -0.10000000000000009 Done?:  False\n",
      "Observation:  (96, 96, 3) Reward:  -0.10000000000000009 Done?:  False\n",
      "Observation:  (96, 96, 3) Reward:  -0.10000000000000009 Done?:  False\n",
      "Observation:  (96, 96, 3) Reward:  -0.10000000000000009 Done?:  False\n",
      "Observation:  (96, 96, 3) Reward:  -0.10000000000000009 Done?:  False\n",
      "Observation:  (96, 96, 3) Reward:  -0.09999999999999987 Done?:  False\n",
      "Observation:  (96, 96, 3) Reward:  -0.10000000000000009 Done?:  False\n",
      "Observation:  (96, 96, 3) Reward:  -0.10000000000000009 Done?:  False\n",
      "Observation:  (96, 96, 3) Reward:  -0.10000000000000009 Done?:  False\n",
      "Observation:  (96, 96, 3) Reward:  -0.10000000000000009 Done?:  False\n",
      "Observation:  (96, 96, 3) Reward:  -0.10000000000000009 Done?:  False\n",
      "Observation:  (96, 96, 3) Reward:  -0.10000000000000009 Done?:  False\n",
      "Observation:  (96, 96, 3) Reward:  -0.10000000000000009 Done?:  False\n",
      "Observation:  (96, 96, 3) Reward:  -0.10000000000000009 Done?:  False\n",
      "Observation:  (96, 96, 3) Reward:  -0.10000000000000009 Done?:  False\n",
      "Observation:  (96, 96, 3) Reward:  -0.10000000000000009 Done?:  False\n",
      "Observation:  (96, 96, 3) Reward:  -0.10000000000000009 Done?:  False\n",
      "Observation:  (96, 96, 3) Reward:  -0.10000000000000009 Done?:  False\n",
      "Observation:  (96, 96, 3) Reward:  -0.10000000000000009 Done?:  False\n",
      "Observation:  (96, 96, 3) Reward:  -0.10000000000000009 Done?:  False\n",
      "Observation:  (96, 96, 3) Reward:  -0.10000000000000009 Done?:  False\n",
      "Observation:  (96, 96, 3) Reward:  -0.10000000000000009 Done?:  False\n",
      "Observation:  (96, 96, 3) Reward:  -0.10000000000000009 Done?:  False\n",
      "Observation:  (96, 96, 3) Reward:  -0.10000000000000009 Done?:  False\n",
      "Observation:  (96, 96, 3) Reward:  -0.10000000000000009 Done?:  False\n",
      "Observation:  (96, 96, 3) Reward:  -0.10000000000000009 Done?:  False\n",
      "Observation:  (96, 96, 3) Reward:  -0.09999999999999964 Done?:  False\n",
      "Observation:  (96, 96, 3) Reward:  -0.09999999999999964 Done?:  False\n",
      "Observation:  (96, 96, 3) Reward:  -0.09999999999999964 Done?:  False\n",
      "Observation:  (96, 96, 3) Reward:  -0.09999999999999964 Done?:  False\n",
      "Observation:  (96, 96, 3) Reward:  -0.09999999999999964 Done?:  False\n",
      "Observation:  (96, 96, 3) Reward:  -0.09999999999999964 Done?:  False\n",
      "Observation:  (96, 96, 3) Reward:  -0.09999999999999964 Done?:  False\n",
      "Observation:  (96, 96, 3) Reward:  -0.09999999999999964 Done?:  False\n",
      "Observation:  (96, 96, 3) Reward:  -0.09999999999999964 Done?:  False\n",
      "Observation:  (96, 96, 3) Reward:  -0.09999999999999964 Done?:  False\n",
      "Observation:  (96, 96, 3) Reward:  -0.09999999999999964 Done?:  False\n",
      "Observation:  (96, 96, 3) Reward:  -0.09999999999999964 Done?:  False\n",
      "Observation:  (96, 96, 3) Reward:  -0.09999999999999964 Done?:  False\n",
      "Observation:  (96, 96, 3) Reward:  -0.09999999999999964 Done?:  False\n",
      "Observation:  (96, 96, 3) Reward:  -0.09999999999999964 Done?:  False\n",
      "Observation:  (96, 96, 3) Reward:  -0.09999999999999964 Done?:  False\n"
     ]
    },
    {
     "name": "stdout",
     "output_type": "stream",
     "text": [
      "Observation:  (96, 96, 3) Reward:  -0.09999999999999964 Done?:  False\n",
      "Observation:  (96, 96, 3) Reward:  -0.09999999999999964 Done?:  False\n",
      "Observation:  (96, 96, 3) Reward:  -0.09999999999999964 Done?:  False\n",
      "Observation:  (96, 96, 3) Reward:  -0.09999999999999964 Done?:  False\n",
      "Observation:  (96, 96, 3) Reward:  -0.09999999999999964 Done?:  False\n",
      "Observation:  (96, 96, 3) Reward:  -0.09999999999999964 Done?:  False\n",
      "Observation:  (96, 96, 3) Reward:  -0.09999999999999964 Done?:  False\n",
      "Observation:  (96, 96, 3) Reward:  -0.09999999999999964 Done?:  False\n",
      "Observation:  (96, 96, 3) Reward:  -0.09999999999999964 Done?:  False\n",
      "Observation:  (96, 96, 3) Reward:  -0.09999999999999964 Done?:  False\n",
      "Observation:  (96, 96, 3) Reward:  -0.09999999999999964 Done?:  False\n",
      "Observation:  (96, 96, 3) Reward:  -0.09999999999999964 Done?:  False\n",
      "Observation:  (96, 96, 3) Reward:  -0.09999999999999964 Done?:  False\n",
      "Observation:  (96, 96, 3) Reward:  -0.09999999999999964 Done?:  False\n",
      "Observation:  (96, 96, 3) Reward:  -0.09999999999999964 Done?:  False\n",
      "Observation:  (96, 96, 3) Reward:  -0.09999999999999964 Done?:  False\n",
      "Observation:  (96, 96, 3) Reward:  -0.09999999999999964 Done?:  False\n",
      "Observation:  (96, 96, 3) Reward:  -0.09999999999999964 Done?:  False\n",
      "Observation:  (96, 96, 3) Reward:  -0.09999999999999964 Done?:  False\n",
      "Observation:  (96, 96, 3) Reward:  -0.09999999999999964 Done?:  False\n",
      "Observation:  (96, 96, 3) Reward:  -0.09999999999999964 Done?:  False\n",
      "Observation:  (96, 96, 3) Reward:  -0.09999999999999964 Done?:  False\n",
      "Observation:  (96, 96, 3) Reward:  -0.09999999999999964 Done?:  False\n",
      "Observation:  (96, 96, 3) Reward:  -0.10000000000000053 Done?:  False\n",
      "Observation:  (96, 96, 3) Reward:  -0.09999999999999964 Done?:  False\n",
      "Observation:  (96, 96, 3) Reward:  -0.09999999999999964 Done?:  False\n",
      "Observation:  (96, 96, 3) Reward:  -0.09999999999999964 Done?:  False\n",
      "Observation:  (96, 96, 3) Reward:  -0.09999999999999964 Done?:  False\n",
      "Observation:  (96, 96, 3) Reward:  -0.09999999999999964 Done?:  False\n",
      "Observation:  (96, 96, 3) Reward:  -0.09999999999999964 Done?:  False\n",
      "Observation:  (96, 96, 3) Reward:  -0.09999999999999964 Done?:  False\n"
     ]
    },
    {
     "ename": "RecursionError",
     "evalue": "maximum recursion depth exceeded while calling a Python object",
     "output_type": "error",
     "traceback": [
      "\u001b[0;31m---------------------------------------------------------------------------\u001b[0m",
      "\u001b[0;31mRecursionError\u001b[0m                            Traceback (most recent call last)",
      "\u001b[0;32m_ctypes/callbacks.c\u001b[0m in \u001b[0;36m'calling callback function'\u001b[0;34m()\u001b[0m\n",
      "\u001b[0;32m~/anaconda3/envs/aigym/lib/python3.8/site-packages/pyglet/libs/darwin/cocoapy/runtime.py\u001b[0m in \u001b[0;36mobjc_method\u001b[0;34m(objc_self, objc_cmd, *args)\u001b[0m\n\u001b[1;32m   1118\u001b[0m                 \u001b[0mpy_self\u001b[0m \u001b[0;34m=\u001b[0m \u001b[0mObjCInstance\u001b[0m\u001b[0;34m(\u001b[0m\u001b[0mobjc_self\u001b[0m\u001b[0;34m)\u001b[0m\u001b[0;34m\u001b[0m\u001b[0;34m\u001b[0m\u001b[0m\n\u001b[1;32m   1119\u001b[0m                 \u001b[0mpy_self\u001b[0m\u001b[0;34m.\u001b[0m\u001b[0mobjc_cmd\u001b[0m \u001b[0;34m=\u001b[0m \u001b[0mobjc_cmd\u001b[0m\u001b[0;34m\u001b[0m\u001b[0;34m\u001b[0m\u001b[0m\n\u001b[0;32m-> 1120\u001b[0;31m                 \u001b[0margs\u001b[0m \u001b[0;34m=\u001b[0m \u001b[0mconvert_method_arguments\u001b[0m\u001b[0;34m(\u001b[0m\u001b[0mencoding\u001b[0m\u001b[0;34m,\u001b[0m \u001b[0margs\u001b[0m\u001b[0;34m)\u001b[0m\u001b[0;34m\u001b[0m\u001b[0;34m\u001b[0m\u001b[0m\n\u001b[0m\u001b[1;32m   1121\u001b[0m                 \u001b[0mresult\u001b[0m \u001b[0;34m=\u001b[0m \u001b[0mf\u001b[0m\u001b[0;34m(\u001b[0m\u001b[0mpy_self\u001b[0m\u001b[0;34m,\u001b[0m \u001b[0;34m*\u001b[0m\u001b[0margs\u001b[0m\u001b[0;34m)\u001b[0m\u001b[0;34m\u001b[0m\u001b[0;34m\u001b[0m\u001b[0m\n\u001b[1;32m   1122\u001b[0m                 \u001b[0;32mif\u001b[0m \u001b[0misinstance\u001b[0m\u001b[0;34m(\u001b[0m\u001b[0mresult\u001b[0m\u001b[0;34m,\u001b[0m \u001b[0mObjCClass\u001b[0m\u001b[0;34m)\u001b[0m\u001b[0;34m:\u001b[0m\u001b[0;34m\u001b[0m\u001b[0;34m\u001b[0m\u001b[0m\n",
      "\u001b[0;32m~/anaconda3/envs/aigym/lib/python3.8/site-packages/pyglet/libs/darwin/cocoapy/runtime.py\u001b[0m in \u001b[0;36mconvert_method_arguments\u001b[0;34m(encoding, args)\u001b[0m\n\u001b[1;32m    998\u001b[0m     \u001b[0;32mfor\u001b[0m \u001b[0me\u001b[0m\u001b[0;34m,\u001b[0m \u001b[0ma\u001b[0m \u001b[0;32min\u001b[0m \u001b[0mzip\u001b[0m\u001b[0;34m(\u001b[0m\u001b[0marg_encodings\u001b[0m\u001b[0;34m,\u001b[0m \u001b[0margs\u001b[0m\u001b[0;34m)\u001b[0m\u001b[0;34m:\u001b[0m\u001b[0;34m\u001b[0m\u001b[0;34m\u001b[0m\u001b[0m\n\u001b[1;32m    999\u001b[0m         \u001b[0;32mif\u001b[0m \u001b[0me\u001b[0m \u001b[0;34m==\u001b[0m \u001b[0;34mb'@'\u001b[0m\u001b[0;34m:\u001b[0m\u001b[0;34m\u001b[0m\u001b[0;34m\u001b[0m\u001b[0m\n\u001b[0;32m-> 1000\u001b[0;31m             \u001b[0mnew_args\u001b[0m\u001b[0;34m.\u001b[0m\u001b[0mappend\u001b[0m\u001b[0;34m(\u001b[0m\u001b[0mObjCInstance\u001b[0m\u001b[0;34m(\u001b[0m\u001b[0ma\u001b[0m\u001b[0;34m)\u001b[0m\u001b[0;34m)\u001b[0m\u001b[0;34m\u001b[0m\u001b[0;34m\u001b[0m\u001b[0m\n\u001b[0m\u001b[1;32m   1001\u001b[0m         \u001b[0;32melif\u001b[0m \u001b[0me\u001b[0m \u001b[0;34m==\u001b[0m \u001b[0;34mb'#'\u001b[0m\u001b[0;34m:\u001b[0m\u001b[0;34m\u001b[0m\u001b[0;34m\u001b[0m\u001b[0m\n\u001b[1;32m   1002\u001b[0m             \u001b[0mnew_args\u001b[0m\u001b[0;34m.\u001b[0m\u001b[0mappend\u001b[0m\u001b[0;34m(\u001b[0m\u001b[0mObjCClass\u001b[0m\u001b[0;34m(\u001b[0m\u001b[0ma\u001b[0m\u001b[0;34m)\u001b[0m\u001b[0;34m)\u001b[0m\u001b[0;34m\u001b[0m\u001b[0;34m\u001b[0m\u001b[0m\n",
      "\u001b[0;32m~/anaconda3/envs/aigym/lib/python3.8/site-packages/pyglet/libs/darwin/cocoapy/runtime.py\u001b[0m in \u001b[0;36m__new__\u001b[0;34m(cls, object_ptr)\u001b[0m\n\u001b[1;32m    919\u001b[0m         for the given object_ptr which should be an Objective-C id.\"\"\"\n\u001b[1;32m    920\u001b[0m         \u001b[0;31m# Make sure that object_ptr is wrapped in a c_void_p.\u001b[0m\u001b[0;34m\u001b[0m\u001b[0;34m\u001b[0m\u001b[0;34m\u001b[0m\u001b[0m\n\u001b[0;32m--> 921\u001b[0;31m         \u001b[0;32mif\u001b[0m \u001b[0;32mnot\u001b[0m \u001b[0misinstance\u001b[0m\u001b[0;34m(\u001b[0m\u001b[0mobject_ptr\u001b[0m\u001b[0;34m,\u001b[0m \u001b[0mc_void_p\u001b[0m\u001b[0;34m)\u001b[0m\u001b[0;34m:\u001b[0m\u001b[0;34m\u001b[0m\u001b[0;34m\u001b[0m\u001b[0m\n\u001b[0m\u001b[1;32m    922\u001b[0m             \u001b[0mobject_ptr\u001b[0m \u001b[0;34m=\u001b[0m \u001b[0mc_void_p\u001b[0m\u001b[0;34m(\u001b[0m\u001b[0mobject_ptr\u001b[0m\u001b[0;34m)\u001b[0m\u001b[0;34m\u001b[0m\u001b[0;34m\u001b[0m\u001b[0m\n\u001b[1;32m    923\u001b[0m \u001b[0;34m\u001b[0m\u001b[0m\n",
      "\u001b[0;31mRecursionError\u001b[0m: maximum recursion depth exceeded while calling a Python object"
     ]
    }
   ],
   "source": [
    "total_reward = 0\n",
    "\n",
    "# Outer loop is for multiple simulations (increase for learning over a long time)\n",
    "for i in range(1):\n",
    "    env.reset() # Reset to start a new simulation\n",
    "    \n",
    "    # Inner loop for simulating the environment:\n",
    "    # 1. Observe 2. Take action 3. Read reward 4. Learn 1. Observe ...\n",
    "    for i in range(1000):\n",
    "        env.render() # For seeing the simulation step\n",
    "        \n",
    "        #epochs, penalties, reward, = 0, 0, 0\n",
    "        \n",
    "        if random.uniform(0, 1) < epsilon:\n",
    "            action_idx = random.choice(list(actions.keys()))\n",
    "            action = actions.get(action_idx)\n",
    "        else:\n",
    "            action_idx = np.argmax(q_table[state])\n",
    "            action = actions.get(action_idx)\n",
    "        \n",
    "        next_state, reward, done, info = env.step(action)\n",
    "        \n",
    "        old_value = q_table[state][action_idx]\n",
    "        next_max = np.max(q_table[next_state])\n",
    "        \n",
    "        new_value = (1 - alpha) * old_value + alpha * (reward + gamma * next_max)\n",
    "        q_table[state][action_idx] = new_value\n",
    "        \n",
    "        state = next_state\n",
    "                    \n",
    "        # Pring the observations, rewards, whether the round has ended\n",
    "        print(\"Observation: \", observation.shape,\n",
    "              \"Reward: \", reward,\n",
    "              \"Done?: \", done)\n",
    "        \n",
    "        if i < 1000: # Calculate reward for only first 2000 episodes\n",
    "            total_reward += reward\n",
    "        \n",
    "        if done: # Car steered off stop the simulation and restart it\n",
    "            break"
   ]
  },
  {
   "cell_type": "code",
   "execution_count": 98,
   "metadata": {},
   "outputs": [
    {
     "name": "stdout",
     "output_type": "stream",
     "text": [
      "-94.04761904761797\n"
     ]
    }
   ],
   "source": [
    "print(total_reward)"
   ]
  },
  {
   "cell_type": "markdown",
   "metadata": {},
   "source": [
    "# Close"
   ]
  },
  {
   "cell_type": "code",
   "execution_count": 32,
   "metadata": {},
   "outputs": [],
   "source": [
    "# Drop the resources for the environment\n",
    "env.env.close()"
   ]
  },
  {
   "cell_type": "markdown",
   "metadata": {},
   "source": [
    "# General Advice\n",
    "\n",
    "* You can ask the hackathon hero for help, but not too much :)\n",
    "* Please don't to cheat too much :)\n",
    "* Please fork don’t clone on the day\n",
    "* Organise your collaboration and learn about the subject at the start \n",
    "* Maybe start simple (even without machine learning) and then employ machine learning\n",
    "* Check the car racing env page on AI gym to remember the reward and observation structure https://gym.openai.com/envs/CarRacing-v0/"
   ]
  },
  {
   "cell_type": "markdown",
   "metadata": {},
   "source": [
    "# The Observation\n",
    "\n",
    "* Here we plot the observation to hint to its content"
   ]
  },
  {
   "cell_type": "code",
   "execution_count": 34,
   "metadata": {},
   "outputs": [
    {
     "data": {
      "text/plain": [
       "array([[0, 0, 0],\n",
       "       [0, 0, 0],\n",
       "       [0, 0, 0]])"
      ]
     },
     "execution_count": 34,
     "metadata": {},
     "output_type": "execute_result"
    }
   ],
   "source": [
    "binarize(observation)\n"
   ]
  },
  {
   "cell_type": "code",
   "execution_count": 35,
   "metadata": {},
   "outputs": [
    {
     "data": {
      "image/png": "[encoded data removed]",
      "text/plain": [
       "<Figure size 2520x2520 with 1 Axes>"
      ]
     },
     "metadata": {
      "needs_background": "light"
     },
     "output_type": "display_data"
    }
   ],
   "source": [
    "import matplotlib.pyplot as plt\n",
    "plt.figure(figsize=(35, 35))\n",
    "plt.imshow(observation, interpolation='nearest')\n",
    "plt.show()"
   ]
  },
  {
   "cell_type": "code",
   "execution_count": 10,
   "metadata": {
    "scrolled": true
   },
   "outputs": [
    {
     "data": {
      "text/plain": [
       "array([[[107, 107, 107],\n",
       "        [107, 107, 107],\n",
       "        [107, 107, 107],\n",
       "        ...,\n",
       "        [102, 204, 102],\n",
       "        [102, 204, 102],\n",
       "        [102, 204, 102]],\n",
       "\n",
       "       [[107, 107, 107],\n",
       "        [107, 107, 107],\n",
       "        [105, 105, 105],\n",
       "        ...,\n",
       "        [102, 204, 102],\n",
       "        [102, 204, 102],\n",
       "        [102, 204, 102]],\n",
       "\n",
       "       [[105, 105, 105],\n",
       "        [105, 105, 105],\n",
       "        [105, 105, 105],\n",
       "        ...,\n",
       "        [102, 204, 102],\n",
       "        [102, 204, 102],\n",
       "        [102, 204, 102]],\n",
       "\n",
       "       ...,\n",
       "\n",
       "       [[  0,   0,   0],\n",
       "        [  0,   0,   0],\n",
       "        [  0,   0,   0],\n",
       "        ...,\n",
       "        [  0,   0,   0],\n",
       "        [  0,   0,   0],\n",
       "        [  0,   0,   0]],\n",
       "\n",
       "       [[  0,   0,   0],\n",
       "        [  0,   0,   0],\n",
       "        [  0,   0,   0],\n",
       "        ...,\n",
       "        [  0,   0,   0],\n",
       "        [  0,   0,   0],\n",
       "        [  0,   0,   0]],\n",
       "\n",
       "       [[  0,   0,   0],\n",
       "        [  0,   0,   0],\n",
       "        [  0,   0,   0],\n",
       "        ...,\n",
       "        [  0,   0,   0],\n",
       "        [  0,   0,   0],\n",
       "        [  0,   0,   0]]], dtype=uint8)"
      ]
     },
     "execution_count": 10,
     "metadata": {},
     "output_type": "execute_result"
    }
   ],
   "source": [
    "observation"
   ]
  },
  {
   "cell_type": "code",
   "execution_count": null,
   "metadata": {},
   "outputs": [],
   "source": []
  },
  {
   "cell_type": "code",
   "execution_count": null,
   "metadata": {},
   "outputs": [],
   "source": []
  },
  {
   "cell_type": "code",
   "execution_count": 8,
   "metadata": {},
   "outputs": [],
   "source": [
    "def discrete(elem):\n",
    "    res = [0]\n",
    "    am = np.argmax(elem)\n",
    "    if am < 1:\n",
    "        res[0] = 1\n",
    "    return res\n",
    "\n",
    "def binarize(obs):\n",
    "    # Binarize\n",
    "    res = ds = np.array(\n",
    "        list(\n",
    "            map(discrete, obs.reshape(96 * 96, 3))\n",
    "        )\n",
    "    ).reshape(96, 96, 1)\n",
    "    \n",
    "    res = res[15:-15, 15:-15, :]\n",
    "    \n",
    "    # Downsample\n",
    "    acc = res[0::22, 0::22, 0]\n",
    "    for i in range(1,22):\n",
    "        for j in range(1,22):\n",
    "            acc += res[i::22, j::22, 0]\n",
    "    \n",
    "    acc = (acc / (22 * 22)) > 0.3\n",
    "\n",
    "    #acc = acc[:-1,:]\n",
    "    \n",
    "    return np.array(acc, dtype=int)"
   ]
  },
  {
   "cell_type": "code",
   "execution_count": null,
   "metadata": {},
   "outputs": [],
   "source": []
  }
 ],
 "metadata": {
  "kernelspec": {
   "display_name": "Python 3",
   "language": "python",
   "name": "python3"
  },
  "language_info": {
   "codemirror_mode": {
    "name": "ipython",
    "version": 3
   },
   "file_extension": ".py",
   "mimetype": "text/x-python",
   "name": "python",
   "nbconvert_exporter": "python",
   "pygments_lexer": "ipython3",
   "version": "3.8.2"
  }
 },
 "nbformat": 4,
 "nbformat_minor": 2
}
